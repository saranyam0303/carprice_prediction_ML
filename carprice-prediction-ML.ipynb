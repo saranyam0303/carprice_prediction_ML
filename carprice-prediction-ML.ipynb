{
 "cells": [
  {
   "cell_type": "markdown",
   "id": "ad9f3699",
   "metadata": {},
   "source": [
    "# 1. Loading and Preprocessing "
   ]
  },
  {
   "cell_type": "code",
   "execution_count": 3,
   "id": "c7fb4334",
   "metadata": {},
   "outputs": [
    {
     "data": {
      "text/html": [
       "<div>\n",
       "<style scoped>\n",
       "    .dataframe tbody tr th:only-of-type {\n",
       "        vertical-align: middle;\n",
       "    }\n",
       "\n",
       "    .dataframe tbody tr th {\n",
       "        vertical-align: top;\n",
       "    }\n",
       "\n",
       "    .dataframe thead th {\n",
       "        text-align: right;\n",
       "    }\n",
       "</style>\n",
       "<table border=\"1\" class=\"dataframe\">\n",
       "  <thead>\n",
       "    <tr style=\"text-align: right;\">\n",
       "      <th></th>\n",
       "      <th>car_ID</th>\n",
       "      <th>symboling</th>\n",
       "      <th>CarName</th>\n",
       "      <th>fueltype</th>\n",
       "      <th>aspiration</th>\n",
       "      <th>doornumber</th>\n",
       "      <th>carbody</th>\n",
       "      <th>drivewheel</th>\n",
       "      <th>enginelocation</th>\n",
       "      <th>wheelbase</th>\n",
       "      <th>...</th>\n",
       "      <th>enginesize</th>\n",
       "      <th>fuelsystem</th>\n",
       "      <th>boreratio</th>\n",
       "      <th>stroke</th>\n",
       "      <th>compressionratio</th>\n",
       "      <th>horsepower</th>\n",
       "      <th>peakrpm</th>\n",
       "      <th>citympg</th>\n",
       "      <th>highwaympg</th>\n",
       "      <th>price</th>\n",
       "    </tr>\n",
       "  </thead>\n",
       "  <tbody>\n",
       "    <tr>\n",
       "      <th>0</th>\n",
       "      <td>1</td>\n",
       "      <td>3</td>\n",
       "      <td>alfa-romero giulia</td>\n",
       "      <td>gas</td>\n",
       "      <td>std</td>\n",
       "      <td>two</td>\n",
       "      <td>convertible</td>\n",
       "      <td>rwd</td>\n",
       "      <td>front</td>\n",
       "      <td>88.6</td>\n",
       "      <td>...</td>\n",
       "      <td>130</td>\n",
       "      <td>mpfi</td>\n",
       "      <td>3.47</td>\n",
       "      <td>2.68</td>\n",
       "      <td>9.0</td>\n",
       "      <td>111</td>\n",
       "      <td>5000</td>\n",
       "      <td>21</td>\n",
       "      <td>27</td>\n",
       "      <td>13495.0</td>\n",
       "    </tr>\n",
       "    <tr>\n",
       "      <th>1</th>\n",
       "      <td>2</td>\n",
       "      <td>3</td>\n",
       "      <td>alfa-romero stelvio</td>\n",
       "      <td>gas</td>\n",
       "      <td>std</td>\n",
       "      <td>two</td>\n",
       "      <td>convertible</td>\n",
       "      <td>rwd</td>\n",
       "      <td>front</td>\n",
       "      <td>88.6</td>\n",
       "      <td>...</td>\n",
       "      <td>130</td>\n",
       "      <td>mpfi</td>\n",
       "      <td>3.47</td>\n",
       "      <td>2.68</td>\n",
       "      <td>9.0</td>\n",
       "      <td>111</td>\n",
       "      <td>5000</td>\n",
       "      <td>21</td>\n",
       "      <td>27</td>\n",
       "      <td>16500.0</td>\n",
       "    </tr>\n",
       "    <tr>\n",
       "      <th>2</th>\n",
       "      <td>3</td>\n",
       "      <td>1</td>\n",
       "      <td>alfa-romero Quadrifoglio</td>\n",
       "      <td>gas</td>\n",
       "      <td>std</td>\n",
       "      <td>two</td>\n",
       "      <td>hatchback</td>\n",
       "      <td>rwd</td>\n",
       "      <td>front</td>\n",
       "      <td>94.5</td>\n",
       "      <td>...</td>\n",
       "      <td>152</td>\n",
       "      <td>mpfi</td>\n",
       "      <td>2.68</td>\n",
       "      <td>3.47</td>\n",
       "      <td>9.0</td>\n",
       "      <td>154</td>\n",
       "      <td>5000</td>\n",
       "      <td>19</td>\n",
       "      <td>26</td>\n",
       "      <td>16500.0</td>\n",
       "    </tr>\n",
       "    <tr>\n",
       "      <th>3</th>\n",
       "      <td>4</td>\n",
       "      <td>2</td>\n",
       "      <td>audi 100 ls</td>\n",
       "      <td>gas</td>\n",
       "      <td>std</td>\n",
       "      <td>four</td>\n",
       "      <td>sedan</td>\n",
       "      <td>fwd</td>\n",
       "      <td>front</td>\n",
       "      <td>99.8</td>\n",
       "      <td>...</td>\n",
       "      <td>109</td>\n",
       "      <td>mpfi</td>\n",
       "      <td>3.19</td>\n",
       "      <td>3.40</td>\n",
       "      <td>10.0</td>\n",
       "      <td>102</td>\n",
       "      <td>5500</td>\n",
       "      <td>24</td>\n",
       "      <td>30</td>\n",
       "      <td>13950.0</td>\n",
       "    </tr>\n",
       "    <tr>\n",
       "      <th>4</th>\n",
       "      <td>5</td>\n",
       "      <td>2</td>\n",
       "      <td>audi 100ls</td>\n",
       "      <td>gas</td>\n",
       "      <td>std</td>\n",
       "      <td>four</td>\n",
       "      <td>sedan</td>\n",
       "      <td>4wd</td>\n",
       "      <td>front</td>\n",
       "      <td>99.4</td>\n",
       "      <td>...</td>\n",
       "      <td>136</td>\n",
       "      <td>mpfi</td>\n",
       "      <td>3.19</td>\n",
       "      <td>3.40</td>\n",
       "      <td>8.0</td>\n",
       "      <td>115</td>\n",
       "      <td>5500</td>\n",
       "      <td>18</td>\n",
       "      <td>22</td>\n",
       "      <td>17450.0</td>\n",
       "    </tr>\n",
       "    <tr>\n",
       "      <th>...</th>\n",
       "      <td>...</td>\n",
       "      <td>...</td>\n",
       "      <td>...</td>\n",
       "      <td>...</td>\n",
       "      <td>...</td>\n",
       "      <td>...</td>\n",
       "      <td>...</td>\n",
       "      <td>...</td>\n",
       "      <td>...</td>\n",
       "      <td>...</td>\n",
       "      <td>...</td>\n",
       "      <td>...</td>\n",
       "      <td>...</td>\n",
       "      <td>...</td>\n",
       "      <td>...</td>\n",
       "      <td>...</td>\n",
       "      <td>...</td>\n",
       "      <td>...</td>\n",
       "      <td>...</td>\n",
       "      <td>...</td>\n",
       "      <td>...</td>\n",
       "    </tr>\n",
       "    <tr>\n",
       "      <th>200</th>\n",
       "      <td>201</td>\n",
       "      <td>-1</td>\n",
       "      <td>volvo 145e (sw)</td>\n",
       "      <td>gas</td>\n",
       "      <td>std</td>\n",
       "      <td>four</td>\n",
       "      <td>sedan</td>\n",
       "      <td>rwd</td>\n",
       "      <td>front</td>\n",
       "      <td>109.1</td>\n",
       "      <td>...</td>\n",
       "      <td>141</td>\n",
       "      <td>mpfi</td>\n",
       "      <td>3.78</td>\n",
       "      <td>3.15</td>\n",
       "      <td>9.5</td>\n",
       "      <td>114</td>\n",
       "      <td>5400</td>\n",
       "      <td>23</td>\n",
       "      <td>28</td>\n",
       "      <td>16845.0</td>\n",
       "    </tr>\n",
       "    <tr>\n",
       "      <th>201</th>\n",
       "      <td>202</td>\n",
       "      <td>-1</td>\n",
       "      <td>volvo 144ea</td>\n",
       "      <td>gas</td>\n",
       "      <td>turbo</td>\n",
       "      <td>four</td>\n",
       "      <td>sedan</td>\n",
       "      <td>rwd</td>\n",
       "      <td>front</td>\n",
       "      <td>109.1</td>\n",
       "      <td>...</td>\n",
       "      <td>141</td>\n",
       "      <td>mpfi</td>\n",
       "      <td>3.78</td>\n",
       "      <td>3.15</td>\n",
       "      <td>8.7</td>\n",
       "      <td>160</td>\n",
       "      <td>5300</td>\n",
       "      <td>19</td>\n",
       "      <td>25</td>\n",
       "      <td>19045.0</td>\n",
       "    </tr>\n",
       "    <tr>\n",
       "      <th>202</th>\n",
       "      <td>203</td>\n",
       "      <td>-1</td>\n",
       "      <td>volvo 244dl</td>\n",
       "      <td>gas</td>\n",
       "      <td>std</td>\n",
       "      <td>four</td>\n",
       "      <td>sedan</td>\n",
       "      <td>rwd</td>\n",
       "      <td>front</td>\n",
       "      <td>109.1</td>\n",
       "      <td>...</td>\n",
       "      <td>173</td>\n",
       "      <td>mpfi</td>\n",
       "      <td>3.58</td>\n",
       "      <td>2.87</td>\n",
       "      <td>8.8</td>\n",
       "      <td>134</td>\n",
       "      <td>5500</td>\n",
       "      <td>18</td>\n",
       "      <td>23</td>\n",
       "      <td>21485.0</td>\n",
       "    </tr>\n",
       "    <tr>\n",
       "      <th>203</th>\n",
       "      <td>204</td>\n",
       "      <td>-1</td>\n",
       "      <td>volvo 246</td>\n",
       "      <td>diesel</td>\n",
       "      <td>turbo</td>\n",
       "      <td>four</td>\n",
       "      <td>sedan</td>\n",
       "      <td>rwd</td>\n",
       "      <td>front</td>\n",
       "      <td>109.1</td>\n",
       "      <td>...</td>\n",
       "      <td>145</td>\n",
       "      <td>idi</td>\n",
       "      <td>3.01</td>\n",
       "      <td>3.40</td>\n",
       "      <td>23.0</td>\n",
       "      <td>106</td>\n",
       "      <td>4800</td>\n",
       "      <td>26</td>\n",
       "      <td>27</td>\n",
       "      <td>22470.0</td>\n",
       "    </tr>\n",
       "    <tr>\n",
       "      <th>204</th>\n",
       "      <td>205</td>\n",
       "      <td>-1</td>\n",
       "      <td>volvo 264gl</td>\n",
       "      <td>gas</td>\n",
       "      <td>turbo</td>\n",
       "      <td>four</td>\n",
       "      <td>sedan</td>\n",
       "      <td>rwd</td>\n",
       "      <td>front</td>\n",
       "      <td>109.1</td>\n",
       "      <td>...</td>\n",
       "      <td>141</td>\n",
       "      <td>mpfi</td>\n",
       "      <td>3.78</td>\n",
       "      <td>3.15</td>\n",
       "      <td>9.5</td>\n",
       "      <td>114</td>\n",
       "      <td>5400</td>\n",
       "      <td>19</td>\n",
       "      <td>25</td>\n",
       "      <td>22625.0</td>\n",
       "    </tr>\n",
       "  </tbody>\n",
       "</table>\n",
       "<p>205 rows × 26 columns</p>\n",
       "</div>"
      ],
      "text/plain": [
       "     car_ID  symboling                   CarName fueltype aspiration  \\\n",
       "0         1          3        alfa-romero giulia      gas        std   \n",
       "1         2          3       alfa-romero stelvio      gas        std   \n",
       "2         3          1  alfa-romero Quadrifoglio      gas        std   \n",
       "3         4          2               audi 100 ls      gas        std   \n",
       "4         5          2                audi 100ls      gas        std   \n",
       "..      ...        ...                       ...      ...        ...   \n",
       "200     201         -1           volvo 145e (sw)      gas        std   \n",
       "201     202         -1               volvo 144ea      gas      turbo   \n",
       "202     203         -1               volvo 244dl      gas        std   \n",
       "203     204         -1                 volvo 246   diesel      turbo   \n",
       "204     205         -1               volvo 264gl      gas      turbo   \n",
       "\n",
       "    doornumber      carbody drivewheel enginelocation  wheelbase  ...  \\\n",
       "0          two  convertible        rwd          front       88.6  ...   \n",
       "1          two  convertible        rwd          front       88.6  ...   \n",
       "2          two    hatchback        rwd          front       94.5  ...   \n",
       "3         four        sedan        fwd          front       99.8  ...   \n",
       "4         four        sedan        4wd          front       99.4  ...   \n",
       "..         ...          ...        ...            ...        ...  ...   \n",
       "200       four        sedan        rwd          front      109.1  ...   \n",
       "201       four        sedan        rwd          front      109.1  ...   \n",
       "202       four        sedan        rwd          front      109.1  ...   \n",
       "203       four        sedan        rwd          front      109.1  ...   \n",
       "204       four        sedan        rwd          front      109.1  ...   \n",
       "\n",
       "     enginesize  fuelsystem  boreratio  stroke compressionratio horsepower  \\\n",
       "0           130        mpfi       3.47    2.68              9.0        111   \n",
       "1           130        mpfi       3.47    2.68              9.0        111   \n",
       "2           152        mpfi       2.68    3.47              9.0        154   \n",
       "3           109        mpfi       3.19    3.40             10.0        102   \n",
       "4           136        mpfi       3.19    3.40              8.0        115   \n",
       "..          ...         ...        ...     ...              ...        ...   \n",
       "200         141        mpfi       3.78    3.15              9.5        114   \n",
       "201         141        mpfi       3.78    3.15              8.7        160   \n",
       "202         173        mpfi       3.58    2.87              8.8        134   \n",
       "203         145         idi       3.01    3.40             23.0        106   \n",
       "204         141        mpfi       3.78    3.15              9.5        114   \n",
       "\n",
       "     peakrpm citympg  highwaympg    price  \n",
       "0       5000      21          27  13495.0  \n",
       "1       5000      21          27  16500.0  \n",
       "2       5000      19          26  16500.0  \n",
       "3       5500      24          30  13950.0  \n",
       "4       5500      18          22  17450.0  \n",
       "..       ...     ...         ...      ...  \n",
       "200     5400      23          28  16845.0  \n",
       "201     5300      19          25  19045.0  \n",
       "202     5500      18          23  21485.0  \n",
       "203     4800      26          27  22470.0  \n",
       "204     5400      19          25  22625.0  \n",
       "\n",
       "[205 rows x 26 columns]"
      ]
     },
     "execution_count": 3,
     "metadata": {},
     "output_type": "execute_result"
    }
   ],
   "source": [
    "import pandas as pd\n",
    "\n",
    "#loading dataset\n",
    "data=pd.read_csv(\"CarPrice.csv\")\n",
    "data"
   ]
  },
  {
   "cell_type": "code",
   "execution_count": 3,
   "id": "b91f15be",
   "metadata": {},
   "outputs": [
    {
     "name": "stdout",
     "output_type": "stream",
     "text": [
      "<class 'pandas.core.frame.DataFrame'>\n",
      "RangeIndex: 205 entries, 0 to 204\n",
      "Data columns (total 26 columns):\n",
      " #   Column            Non-Null Count  Dtype  \n",
      "---  ------            --------------  -----  \n",
      " 0   car_ID            205 non-null    int64  \n",
      " 1   symboling         205 non-null    int64  \n",
      " 2   CarName           205 non-null    object \n",
      " 3   fueltype          205 non-null    object \n",
      " 4   aspiration        205 non-null    object \n",
      " 5   doornumber        205 non-null    object \n",
      " 6   carbody           205 non-null    object \n",
      " 7   drivewheel        205 non-null    object \n",
      " 8   enginelocation    205 non-null    object \n",
      " 9   wheelbase         205 non-null    float64\n",
      " 10  carlength         205 non-null    float64\n",
      " 11  carwidth          205 non-null    float64\n",
      " 12  carheight         205 non-null    float64\n",
      " 13  curbweight        205 non-null    int64  \n",
      " 14  enginetype        205 non-null    object \n",
      " 15  cylindernumber    205 non-null    object \n",
      " 16  enginesize        205 non-null    int64  \n",
      " 17  fuelsystem        205 non-null    object \n",
      " 18  boreratio         205 non-null    float64\n",
      " 19  stroke            205 non-null    float64\n",
      " 20  compressionratio  205 non-null    float64\n",
      " 21  horsepower        205 non-null    int64  \n",
      " 22  peakrpm           205 non-null    int64  \n",
      " 23  citympg           205 non-null    int64  \n",
      " 24  highwaympg        205 non-null    int64  \n",
      " 25  price             205 non-null    float64\n",
      "dtypes: float64(8), int64(8), object(10)\n",
      "memory usage: 41.8+ KB\n"
     ]
    }
   ],
   "source": [
    "data.info()"
   ]
  },
  {
   "cell_type": "code",
   "execution_count": 4,
   "id": "a0beff02",
   "metadata": {},
   "outputs": [
    {
     "name": "stdout",
     "output_type": "stream",
     "text": [
      "Dataset shape: (205, 26)\n"
     ]
    }
   ],
   "source": [
    "# Check the shape of the dataset\n",
    "print(f'Dataset shape: {data.shape}')\n"
   ]
  },
  {
   "cell_type": "code",
   "execution_count": 5,
   "id": "ac21487f",
   "metadata": {},
   "outputs": [
    {
     "name": "stdout",
     "output_type": "stream",
     "text": [
      "           car_ID   symboling   wheelbase   carlength    carwidth   carheight  \\\n",
      "count  205.000000  205.000000  205.000000  205.000000  205.000000  205.000000   \n",
      "mean   103.000000    0.834146   98.756585  174.049268   65.907805   53.724878   \n",
      "std     59.322565    1.245307    6.021776   12.337289    2.145204    2.443522   \n",
      "min      1.000000   -2.000000   86.600000  141.100000   60.300000   47.800000   \n",
      "25%     52.000000    0.000000   94.500000  166.300000   64.100000   52.000000   \n",
      "50%    103.000000    1.000000   97.000000  173.200000   65.500000   54.100000   \n",
      "75%    154.000000    2.000000  102.400000  183.100000   66.900000   55.500000   \n",
      "max    205.000000    3.000000  120.900000  208.100000   72.300000   59.800000   \n",
      "\n",
      "        curbweight  enginesize   boreratio      stroke  compressionratio  \\\n",
      "count   205.000000  205.000000  205.000000  205.000000        205.000000   \n",
      "mean   2555.565854  126.907317    3.329756    3.255415         10.142537   \n",
      "std     520.680204   41.642693    0.270844    0.313597          3.972040   \n",
      "min    1488.000000   61.000000    2.540000    2.070000          7.000000   \n",
      "25%    2145.000000   97.000000    3.150000    3.110000          8.600000   \n",
      "50%    2414.000000  120.000000    3.310000    3.290000          9.000000   \n",
      "75%    2935.000000  141.000000    3.580000    3.410000          9.400000   \n",
      "max    4066.000000  326.000000    3.940000    4.170000         23.000000   \n",
      "\n",
      "       horsepower      peakrpm     citympg  highwaympg         price  \n",
      "count  205.000000   205.000000  205.000000  205.000000    205.000000  \n",
      "mean   104.117073  5125.121951   25.219512   30.751220  13276.710571  \n",
      "std     39.544167   476.985643    6.542142    6.886443   7988.852332  \n",
      "min     48.000000  4150.000000   13.000000   16.000000   5118.000000  \n",
      "25%     70.000000  4800.000000   19.000000   25.000000   7788.000000  \n",
      "50%     95.000000  5200.000000   24.000000   30.000000  10295.000000  \n",
      "75%    116.000000  5500.000000   30.000000   34.000000  16503.000000  \n",
      "max    288.000000  6600.000000   49.000000   54.000000  45400.000000  \n"
     ]
    }
   ],
   "source": [
    "# Display basic statistics for numerical columns\n",
    "print(data.describe())"
   ]
  },
  {
   "cell_type": "code",
   "execution_count": 6,
   "id": "e9f5abdb",
   "metadata": {},
   "outputs": [
    {
     "data": {
      "text/plain": [
       "car_ID              0\n",
       "symboling           0\n",
       "CarName             0\n",
       "fueltype            0\n",
       "aspiration          0\n",
       "doornumber          0\n",
       "carbody             0\n",
       "drivewheel          0\n",
       "enginelocation      0\n",
       "wheelbase           0\n",
       "carlength           0\n",
       "carwidth            0\n",
       "carheight           0\n",
       "curbweight          0\n",
       "enginetype          0\n",
       "cylindernumber      0\n",
       "enginesize          0\n",
       "fuelsystem          0\n",
       "boreratio           0\n",
       "stroke              0\n",
       "compressionratio    0\n",
       "horsepower          0\n",
       "peakrpm             0\n",
       "citympg             0\n",
       "highwaympg          0\n",
       "price               0\n",
       "dtype: int64"
      ]
     },
     "execution_count": 6,
     "metadata": {},
     "output_type": "execute_result"
    }
   ],
   "source": [
    "# Check for missing values\n",
    "data.isnull().sum()"
   ]
  },
  {
   "cell_type": "code",
   "execution_count": 4,
   "id": "c0594272",
   "metadata": {},
   "outputs": [
    {
     "data": {
      "text/plain": [
       "Index(['car_ID', 'symboling', 'CarName', 'fueltype', 'aspiration',\n",
       "       'doornumber', 'carbody', 'drivewheel', 'enginelocation', 'wheelbase',\n",
       "       'carlength', 'carwidth', 'carheight', 'curbweight', 'enginetype',\n",
       "       'cylindernumber', 'enginesize', 'fuelsystem', 'boreratio', 'stroke',\n",
       "       'compressionratio', 'horsepower', 'peakrpm', 'citympg', 'highwaympg',\n",
       "       'price'],\n",
       "      dtype='object')"
      ]
     },
     "execution_count": 4,
     "metadata": {},
     "output_type": "execute_result"
    }
   ],
   "source": [
    "data.columns"
   ]
  },
  {
   "cell_type": "markdown",
   "id": "dac47a99",
   "metadata": {},
   "source": [
    "# Renaming columns"
   ]
  },
  {
   "cell_type": "code",
   "execution_count": 6,
   "id": "df705efe",
   "metadata": {},
   "outputs": [],
   "source": [
    "data.rename(columns={\n",
    "    'CarName': 'car_name','fueltype': 'fuel_type','doornumber': 'door_number','carbody': 'car_body','drivewheel': 'drive_wheel',\n",
    "    'enginelocation': 'engine_location','wheelbase': 'wheel_base','carlength': 'car_length','carwidth': 'car_width','carheight': 'car_height','curbweight': 'curb_weight',\n",
    "    'enginetype': 'engine_type','cylindernumber': 'cylinder_number','enginesize': 'engine_size','fuelsystem': 'fuel_system','boreratio': 'bore_ratio',\n",
    "    'compressionratio': 'compression_ratio','peakrpm': 'peak_rpm','citympg': 'city_mpg','highwaympg': 'highway_mpg'}, inplace=True)"
   ]
  },
  {
   "cell_type": "code",
   "execution_count": 15,
   "id": "fc71a7b1",
   "metadata": {},
   "outputs": [
    {
     "data": {
      "text/plain": [
       "car_name\n",
       "toyota corona           6\n",
       "toyota corolla          6\n",
       "peugeot 504             6\n",
       "subaru dl               4\n",
       "mitsubishi mirage g4    3\n",
       "                       ..\n",
       "mazda glc 4             1\n",
       "mazda rx2 coupe         1\n",
       "maxda glc deluxe        1\n",
       "maxda rx3               1\n",
       "volvo 246               1\n",
       "Name: count, Length: 147, dtype: int64"
      ]
     },
     "execution_count": 15,
     "metadata": {},
     "output_type": "execute_result"
    }
   ],
   "source": [
    "#value counts\n",
    "data[\"car_name\"].value_counts()"
   ]
  },
  {
   "cell_type": "markdown",
   "id": "8f1127c8",
   "metadata": {},
   "source": [
    "# Correlation Matrix for Numerical Features"
   ]
  },
  {
   "cell_type": "code",
   "execution_count": 8,
   "id": "67371d1e",
   "metadata": {},
   "outputs": [
    {
     "name": "stdout",
     "output_type": "stream",
     "text": [
      "                     car_ID  symboling  wheel_base  car_length  car_width  \\\n",
      "car_ID             1.000000  -0.151621    0.129729    0.170636   0.052387   \n",
      "symboling         -0.151621   1.000000   -0.531954   -0.357612  -0.232919   \n",
      "wheel_base         0.129729  -0.531954    1.000000    0.874587   0.795144   \n",
      "car_length         0.170636  -0.357612    0.874587    1.000000   0.841118   \n",
      "car_width          0.052387  -0.232919    0.795144    0.841118   1.000000   \n",
      "car_height         0.255960  -0.541038    0.589435    0.491029   0.279210   \n",
      "curb_weight        0.071962  -0.227691    0.776386    0.877728   0.867032   \n",
      "engine_size       -0.033930  -0.105790    0.569329    0.683360   0.735433   \n",
      "bore_ratio         0.260064  -0.130051    0.488750    0.606454   0.559150   \n",
      "stroke            -0.160824  -0.008735    0.160959    0.129533   0.182942   \n",
      "compression_ratio  0.150276  -0.178515    0.249786    0.158414   0.181129   \n",
      "horsepower        -0.015006   0.070873    0.353294    0.552623   0.640732   \n",
      "peak_rpm          -0.203789   0.273606   -0.360469   -0.287242  -0.220012   \n",
      "city_mpg           0.015940  -0.035823   -0.470414   -0.670909  -0.642704   \n",
      "highway_mpg        0.011255   0.034606   -0.544082   -0.704662  -0.677218   \n",
      "price             -0.109093  -0.079978    0.577816    0.682920   0.759325   \n",
      "\n",
      "                   car_height  curb_weight  engine_size  bore_ratio    stroke  \\\n",
      "car_ID               0.255960     0.071962    -0.033930    0.260064 -0.160824   \n",
      "symboling           -0.541038    -0.227691    -0.105790   -0.130051 -0.008735   \n",
      "wheel_base           0.589435     0.776386     0.569329    0.488750  0.160959   \n",
      "car_length           0.491029     0.877728     0.683360    0.606454  0.129533   \n",
      "car_width            0.279210     0.867032     0.735433    0.559150  0.182942   \n",
      "car_height           1.000000     0.295572     0.067149    0.171071 -0.055307   \n",
      "curb_weight          0.295572     1.000000     0.850594    0.648480  0.168790   \n",
      "engine_size          0.067149     0.850594     1.000000    0.583774  0.203129   \n",
      "bore_ratio           0.171071     0.648480     0.583774    1.000000 -0.055909   \n",
      "stroke              -0.055307     0.168790     0.203129   -0.055909  1.000000   \n",
      "compression_ratio    0.261214     0.151362     0.028971    0.005197  0.186110   \n",
      "horsepower          -0.108802     0.750739     0.809769    0.573677  0.080940   \n",
      "peak_rpm            -0.320411    -0.266243    -0.244660   -0.254976 -0.067964   \n",
      "city_mpg            -0.048640    -0.757414    -0.653658   -0.584532 -0.042145   \n",
      "highway_mpg         -0.107358    -0.797465    -0.677470   -0.587012 -0.043931   \n",
      "price                0.119336     0.835305     0.874145    0.553173  0.079443   \n",
      "\n",
      "                   compression_ratio  horsepower  peak_rpm  city_mpg  \\\n",
      "car_ID                      0.150276   -0.015006 -0.203789  0.015940   \n",
      "symboling                  -0.178515    0.070873  0.273606 -0.035823   \n",
      "wheel_base                  0.249786    0.353294 -0.360469 -0.470414   \n",
      "car_length                  0.158414    0.552623 -0.287242 -0.670909   \n",
      "car_width                   0.181129    0.640732 -0.220012 -0.642704   \n",
      "car_height                  0.261214   -0.108802 -0.320411 -0.048640   \n",
      "curb_weight                 0.151362    0.750739 -0.266243 -0.757414   \n",
      "engine_size                 0.028971    0.809769 -0.244660 -0.653658   \n",
      "bore_ratio                  0.005197    0.573677 -0.254976 -0.584532   \n",
      "stroke                      0.186110    0.080940 -0.067964 -0.042145   \n",
      "compression_ratio           1.000000   -0.204326 -0.435741  0.324701   \n",
      "horsepower                 -0.204326    1.000000  0.131073 -0.801456   \n",
      "peak_rpm                   -0.435741    0.131073  1.000000 -0.113544   \n",
      "city_mpg                    0.324701   -0.801456 -0.113544  1.000000   \n",
      "highway_mpg                 0.265201   -0.770544 -0.054275  0.971337   \n",
      "price                       0.067984    0.808139 -0.085267 -0.685751   \n",
      "\n",
      "                   highway_mpg     price  \n",
      "car_ID                0.011255 -0.109093  \n",
      "symboling             0.034606 -0.079978  \n",
      "wheel_base           -0.544082  0.577816  \n",
      "car_length           -0.704662  0.682920  \n",
      "car_width            -0.677218  0.759325  \n",
      "car_height           -0.107358  0.119336  \n",
      "curb_weight          -0.797465  0.835305  \n",
      "engine_size          -0.677470  0.874145  \n",
      "bore_ratio           -0.587012  0.553173  \n",
      "stroke               -0.043931  0.079443  \n",
      "compression_ratio     0.265201  0.067984  \n",
      "horsepower           -0.770544  0.808139  \n",
      "peak_rpm             -0.054275 -0.085267  \n",
      "city_mpg              0.971337 -0.685751  \n",
      "highway_mpg           1.000000 -0.697599  \n",
      "price                -0.697599  1.000000  \n"
     ]
    }
   ],
   "source": [
    "numerical = data.select_dtypes(include=['float64','int64'])\n",
    "corr = numerical.corr()\n",
    "\n",
    "print(corr)"
   ]
  },
  {
   "cell_type": "markdown",
   "id": "0cba18f4",
   "metadata": {},
   "source": [
    "# Boxplot Visualization of Numerical Variables"
   ]
  },
  {
   "cell_type": "code",
   "execution_count": 13,
   "id": "1ef30471",
   "metadata": {},
   "outputs": [
    {
     "data": {
      "text/plain": [
       "(array([ 0,  1,  2,  3,  4,  5,  6,  7,  8,  9, 10, 11, 12, 13, 14, 15]),\n",
       " [Text(0, 0, 'car_ID'),\n",
       "  Text(1, 0, 'symboling'),\n",
       "  Text(2, 0, 'wheel_base'),\n",
       "  Text(3, 0, 'car_length'),\n",
       "  Text(4, 0, 'car_width'),\n",
       "  Text(5, 0, 'car_height'),\n",
       "  Text(6, 0, 'curb_weight'),\n",
       "  Text(7, 0, 'engine_size'),\n",
       "  Text(8, 0, 'bore_ratio'),\n",
       "  Text(9, 0, 'stroke'),\n",
       "  Text(10, 0, 'compression_ratio'),\n",
       "  Text(11, 0, 'horsepower'),\n",
       "  Text(12, 0, 'peak_rpm'),\n",
       "  Text(13, 0, 'city_mpg'),\n",
       "  Text(14, 0, 'highway_mpg'),\n",
       "  Text(15, 0, 'price')])"
      ]
     },
     "execution_count": 13,
     "metadata": {},
     "output_type": "execute_result"
    },
    {
     "data": {
      "image/png": "[encoded data removed]",
      "text/plain": [
       "<Figure size 1000x800 with 1 Axes>"
      ]
     },
     "metadata": {},
     "output_type": "display_data"
    }
   ],
   "source": [
    "import seaborn as sns\n",
    "import matplotlib.pyplot as plt\n",
    "vi_data = data.melt(value_vars=data.select_dtypes(['float64','int64']))\n",
    "\n",
    "plt.figure(figsize=(10,8))\n",
    "sns.boxplot(x=\"variable\",y=\"value\",data=vi_data)\n",
    "plt.xticks(rotation=45)"
   ]
  },
  {
   "cell_type": "markdown",
   "id": "200b8f83",
   "metadata": {},
   "source": [
    "# Outlier Detection in Price "
   ]
  },
  {
   "cell_type": "code",
   "execution_count": 16,
   "id": "d7ba7aaf",
   "metadata": {},
   "outputs": [
    {
     "data": {
      "text/plain": [
       "<Axes: xlabel='price'>"
      ]
     },
     "execution_count": 16,
     "metadata": {},
     "output_type": "execute_result"
    },
    {
     "data": {
      "image/png": "[encoded data removed]",
      "text/plain": [
       "<Figure size 640x480 with 1 Axes>"
      ]
     },
     "metadata": {},
     "output_type": "display_data"
    }
   ],
   "source": [
    "sns.boxplot(x=data['price'],data=data)"
   ]
  },
  {
   "cell_type": "markdown",
   "id": "e14b24c6",
   "metadata": {},
   "source": [
    "Splitting Features and Target Variable:\n",
    "    \n",
    "Need to separate the target variable (price) from the features."
   ]
  },
  {
   "cell_type": "markdown",
   "id": "c9b5c14b",
   "metadata": {},
   "source": [
    "# Calculating Outlier Limits for Price Column Using Z-Score Method"
   ]
  },
  {
   "cell_type": "code",
   "execution_count": 22,
   "id": "cdf5dce6",
   "metadata": {
    "scrolled": false
   },
   "outputs": [
    {
     "name": "stdout",
     "output_type": "stream",
     "text": [
      "uppper_limit : 37243.267565961156\n",
      "lower_limt: -10689.846424497744\n"
     ]
    },
    {
     "data": {
      "text/html": [
       "<div>\n",
       "<style scoped>\n",
       "    .dataframe tbody tr th:only-of-type {\n",
       "        vertical-align: middle;\n",
       "    }\n",
       "\n",
       "    .dataframe tbody tr th {\n",
       "        vertical-align: top;\n",
       "    }\n",
       "\n",
       "    .dataframe thead th {\n",
       "        text-align: right;\n",
       "    }\n",
       "</style>\n",
       "<table border=\"1\" class=\"dataframe\">\n",
       "  <thead>\n",
       "    <tr style=\"text-align: right;\">\n",
       "      <th></th>\n",
       "      <th>car_ID</th>\n",
       "      <th>symboling</th>\n",
       "      <th>car_name</th>\n",
       "      <th>fuel_type</th>\n",
       "      <th>aspiration</th>\n",
       "      <th>door_number</th>\n",
       "      <th>car_body</th>\n",
       "      <th>drive_wheel</th>\n",
       "      <th>engine_location</th>\n",
       "      <th>wheel_base</th>\n",
       "      <th>...</th>\n",
       "      <th>engine_size</th>\n",
       "      <th>fuel_system</th>\n",
       "      <th>bore_ratio</th>\n",
       "      <th>stroke</th>\n",
       "      <th>compression_ratio</th>\n",
       "      <th>horsepower</th>\n",
       "      <th>peak_rpm</th>\n",
       "      <th>city_mpg</th>\n",
       "      <th>highway_mpg</th>\n",
       "      <th>price</th>\n",
       "    </tr>\n",
       "  </thead>\n",
       "  <tbody>\n",
       "    <tr>\n",
       "      <th>16</th>\n",
       "      <td>17</td>\n",
       "      <td>0</td>\n",
       "      <td>bmw x5</td>\n",
       "      <td>gas</td>\n",
       "      <td>std</td>\n",
       "      <td>two</td>\n",
       "      <td>sedan</td>\n",
       "      <td>rwd</td>\n",
       "      <td>front</td>\n",
       "      <td>103.5</td>\n",
       "      <td>...</td>\n",
       "      <td>209</td>\n",
       "      <td>mpfi</td>\n",
       "      <td>3.62</td>\n",
       "      <td>3.39</td>\n",
       "      <td>8.0</td>\n",
       "      <td>182</td>\n",
       "      <td>5400</td>\n",
       "      <td>16</td>\n",
       "      <td>22</td>\n",
       "      <td>41315.0</td>\n",
       "    </tr>\n",
       "    <tr>\n",
       "      <th>73</th>\n",
       "      <td>74</td>\n",
       "      <td>0</td>\n",
       "      <td>buick century special</td>\n",
       "      <td>gas</td>\n",
       "      <td>std</td>\n",
       "      <td>four</td>\n",
       "      <td>sedan</td>\n",
       "      <td>rwd</td>\n",
       "      <td>front</td>\n",
       "      <td>120.9</td>\n",
       "      <td>...</td>\n",
       "      <td>308</td>\n",
       "      <td>mpfi</td>\n",
       "      <td>3.80</td>\n",
       "      <td>3.35</td>\n",
       "      <td>8.0</td>\n",
       "      <td>184</td>\n",
       "      <td>4500</td>\n",
       "      <td>14</td>\n",
       "      <td>16</td>\n",
       "      <td>40960.0</td>\n",
       "    </tr>\n",
       "    <tr>\n",
       "      <th>74</th>\n",
       "      <td>75</td>\n",
       "      <td>1</td>\n",
       "      <td>buick regal sport coupe (turbo)</td>\n",
       "      <td>gas</td>\n",
       "      <td>std</td>\n",
       "      <td>two</td>\n",
       "      <td>hardtop</td>\n",
       "      <td>rwd</td>\n",
       "      <td>front</td>\n",
       "      <td>112.0</td>\n",
       "      <td>...</td>\n",
       "      <td>304</td>\n",
       "      <td>mpfi</td>\n",
       "      <td>3.80</td>\n",
       "      <td>3.35</td>\n",
       "      <td>8.0</td>\n",
       "      <td>184</td>\n",
       "      <td>4500</td>\n",
       "      <td>14</td>\n",
       "      <td>16</td>\n",
       "      <td>45400.0</td>\n",
       "    </tr>\n",
       "  </tbody>\n",
       "</table>\n",
       "<p>3 rows × 26 columns</p>\n",
       "</div>"
      ],
      "text/plain": [
       "    car_ID  symboling                         car_name fuel_type aspiration  \\\n",
       "16      17          0                           bmw x5       gas        std   \n",
       "73      74          0            buick century special       gas        std   \n",
       "74      75          1  buick regal sport coupe (turbo)       gas        std   \n",
       "\n",
       "   door_number car_body drive_wheel engine_location  wheel_base  ...  \\\n",
       "16         two    sedan         rwd           front       103.5  ...   \n",
       "73        four    sedan         rwd           front       120.9  ...   \n",
       "74         two  hardtop         rwd           front       112.0  ...   \n",
       "\n",
       "    engine_size  fuel_system  bore_ratio  stroke compression_ratio horsepower  \\\n",
       "16          209         mpfi        3.62    3.39               8.0        182   \n",
       "73          308         mpfi        3.80    3.35               8.0        184   \n",
       "74          304         mpfi        3.80    3.35               8.0        184   \n",
       "\n",
       "    peak_rpm city_mpg  highway_mpg    price  \n",
       "16      5400       16           22  41315.0  \n",
       "73      4500       14           16  40960.0  \n",
       "74      4500       14           16  45400.0  \n",
       "\n",
       "[3 rows x 26 columns]"
      ]
     },
     "execution_count": 22,
     "metadata": {},
     "output_type": "execute_result"
    }
   ],
   "source": [
    "upper_limt1 = data['price'].mean() + 3 * data['price'].std()\n",
    "lower_limt1 = data['price'].mean() - 3 * data['price'].std()\n",
    "\n",
    "print(\"uppper_limit :\",upper_limt1)\n",
    "print(\"lower_limt:\",lower_limt1)\n",
    "\n",
    "data.loc[(data['price']>upper_limt1) | (data['price']<lower_limt1)]"
   ]
  },
  {
   "cell_type": "markdown",
   "id": "4a4adcea",
   "metadata": {},
   "source": [
    "# Capping outliers"
   ]
  },
  {
   "cell_type": "code",
   "execution_count": 24,
   "id": "73108d57",
   "metadata": {},
   "outputs": [],
   "source": [
    "#Capping Outliers in Price Column Using Z-Score Method\n",
    "\n",
    "new_data=data.copy()\n",
    "new_data = new_data.loc[(data['price']<upper_limt1) & (data['price']>lower_limt1)]"
   ]
  },
  {
   "cell_type": "code",
   "execution_count": 27,
   "id": "5575b57c",
   "metadata": {},
   "outputs": [
    {
     "data": {
      "text/plain": [
       "<Axes: xlabel='price'>"
      ]
     },
     "execution_count": 27,
     "metadata": {},
     "output_type": "execute_result"
    },
    {
     "data": {
      "image/png": "[encoded data removed]",
      "text/plain": [
       "<Figure size 640x480 with 1 Axes>"
      ]
     },
     "metadata": {},
     "output_type": "display_data"
    }
   ],
   "source": [
    "#Afer capping\n",
    "sns.boxplot(x=new_data['price'],data=new_data)"
   ]
  },
  {
   "cell_type": "code",
   "execution_count": 39,
   "id": "3a4c6a56",
   "metadata": {},
   "outputs": [
    {
     "name": "stdout",
     "output_type": "stream",
     "text": [
      "(205, 191)\n"
     ]
    }
   ],
   "source": [
    "# Identify categorical variables\n",
    "categorical_cols = data.select_dtypes(include=['object']).columns\n",
    "\n",
    "# One-hot encoding for categorical features\n",
    "data = pd.get_dummies(data, columns=categorical_cols, drop_first=True)\n",
    "\n",
    "# Check the new shape of the dataset\n",
    "print(data.shape)\n"
   ]
  },
  {
   "cell_type": "markdown",
   "id": "51b39b81",
   "metadata": {},
   "source": [
    "# Splitting the Dataset into Training and Testing Sets"
   ]
  },
  {
   "cell_type": "code",
   "execution_count": 40,
   "id": "1d5494de",
   "metadata": {},
   "outputs": [],
   "source": [
    "# Assuming 'price' is the target variable\n",
    "X = data.drop('price', axis=1)  # Features\n",
    "y = data['price']                # Target variable\n"
   ]
  },
  {
   "cell_type": "markdown",
   "id": "ead34aa9",
   "metadata": {},
   "source": [
    "Train-Test Split :\n",
    "    \n",
    "Finally,split the dataset into training and test sets to prepare for model building."
   ]
  },
  {
   "cell_type": "code",
   "execution_count": 44,
   "id": "73695727",
   "metadata": {},
   "outputs": [
    {
     "name": "stdout",
     "output_type": "stream",
     "text": [
      "Training set shape: (164, 190) (164,)\n",
      "Test set shape: (41, 190) (41,)\n"
     ]
    }
   ],
   "source": [
    "from sklearn.model_selection import train_test_split\n",
    "\n",
    "# Split the dataset into training and test sets\n",
    "X_train, X_test, y_train, y_test = train_test_split(X, y, test_size=0.2, random_state=42)\n",
    "\n",
    "# Display the shapes of the resulting sets\n",
    "print(\"Training set shape:\", X_train.shape, y_train.shape)\n",
    "print(\"Test set shape:\", X_test.shape, y_test.shape)\n"
   ]
  },
  {
   "cell_type": "markdown",
   "id": "8e3e9f44",
   "metadata": {},
   "source": [
    "# 2. Model Implementation"
   ]
  },
  {
   "cell_type": "code",
   "execution_count": 42,
   "id": "8cde1e1e",
   "metadata": {},
   "outputs": [],
   "source": [
    "#Import Necessary Libraries\n",
    "\n",
    "from sklearn.linear_model import LinearRegression\n",
    "from sklearn.tree import DecisionTreeRegressor\n",
    "from sklearn.ensemble import RandomForestRegressor, GradientBoostingRegressor\n",
    "from sklearn.svm import SVR\n",
    "from sklearn.metrics import r2_score, mean_squared_error, mean_absolute_error\n",
    "\n",
    "# Initialize models\n",
    "models = {\n",
    "    'Linear Regression': LinearRegression(),\n",
    "    'Decision Tree': DecisionTreeRegressor(),\n",
    "    'Random Forest': RandomForestRegressor(),\n",
    "    'Gradient Boosting': GradientBoostingRegressor(),\n",
    "    'Support Vector': SVR()\n",
    "}\n",
    "\n"
   ]
  },
  {
   "cell_type": "markdown",
   "id": "8cee57d6",
   "metadata": {},
   "source": [
    "# 3. Model Evaluation"
   ]
  },
  {
   "cell_type": "code",
   "execution_count": 46,
   "id": "045d6056",
   "metadata": {},
   "outputs": [
    {
     "data": {
      "text/html": [
       "<div>\n",
       "<style scoped>\n",
       "    .dataframe tbody tr th:only-of-type {\n",
       "        vertical-align: middle;\n",
       "    }\n",
       "\n",
       "    .dataframe tbody tr th {\n",
       "        vertical-align: top;\n",
       "    }\n",
       "\n",
       "    .dataframe thead th {\n",
       "        text-align: right;\n",
       "    }\n",
       "</style>\n",
       "<table border=\"1\" class=\"dataframe\">\n",
       "  <thead>\n",
       "    <tr style=\"text-align: right;\">\n",
       "      <th></th>\n",
       "      <th>R-squared</th>\n",
       "      <th>MSE</th>\n",
       "      <th>MAE</th>\n",
       "    </tr>\n",
       "  </thead>\n",
       "  <tbody>\n",
       "    <tr>\n",
       "      <th>Linear Regression</th>\n",
       "      <td>-1.239056</td>\n",
       "      <td>1.767601e+08</td>\n",
       "      <td>7280.667793</td>\n",
       "    </tr>\n",
       "    <tr>\n",
       "      <th>Decision Tree</th>\n",
       "      <td>0.850314</td>\n",
       "      <td>1.181683e+07</td>\n",
       "      <td>2172.650415</td>\n",
       "    </tr>\n",
       "    <tr>\n",
       "      <th>Random Forest</th>\n",
       "      <td>0.956583</td>\n",
       "      <td>3.427482e+06</td>\n",
       "      <td>1316.312390</td>\n",
       "    </tr>\n",
       "    <tr>\n",
       "      <th>Gradient Boosting</th>\n",
       "      <td>0.934642</td>\n",
       "      <td>5.159600e+06</td>\n",
       "      <td>1626.408854</td>\n",
       "    </tr>\n",
       "    <tr>\n",
       "      <th>Support Vector</th>\n",
       "      <td>-0.101989</td>\n",
       "      <td>8.699543e+07</td>\n",
       "      <td>5707.167500</td>\n",
       "    </tr>\n",
       "  </tbody>\n",
       "</table>\n",
       "</div>"
      ],
      "text/plain": [
       "                   R-squared           MSE          MAE\n",
       "Linear Regression  -1.239056  1.767601e+08  7280.667793\n",
       "Decision Tree       0.850314  1.181683e+07  2172.650415\n",
       "Random Forest       0.956583  3.427482e+06  1316.312390\n",
       "Gradient Boosting   0.934642  5.159600e+06  1626.408854\n",
       "Support Vector     -0.101989  8.699543e+07  5707.167500"
      ]
     },
     "execution_count": 46,
     "metadata": {},
     "output_type": "execute_result"
    }
   ],
   "source": [
    "# Train and evaluate models\n",
    "results = {}\n",
    "for model_name, model in models.items():\n",
    "    model.fit(X_train, y_train)\n",
    "    y_pred = model.predict(X_test)\n",
    "    \n",
    "    # Calculate metrics\n",
    "    r2 = r2_score(y_test, y_pred)\n",
    "    mse = mean_squared_error(y_test, y_pred)\n",
    "    mae = mean_absolute_error(y_test, y_pred)\n",
    "    \n",
    "    results[model_name] = {'R-squared': r2, 'MSE': mse, 'MAE': mae}\n",
    "\n",
    "# Display results\n",
    "results_df = pd.DataFrame(results).T\n",
    "results_df"
   ]
  },
  {
   "cell_type": "markdown",
   "id": "4e5ff180",
   "metadata": {},
   "source": [
    "\n",
    "        \n",
    "From the results,the best model based on the following:\n",
    "\n",
    "* Highest R-squared: The Random Forest model has the highest R-squared value of 0.953230, indicating that it explains approximately 95.3% of the variance in car prices. This is an excellent indication of model performance.\n",
    "    \n",
    "* Lowest MSE: Again, the Random Forest model has the lowest MSE of 3,692,204, suggesting that it has the smallest squared differences between predicted and actual values.\n",
    "    \n",
    "* Lowest MAE: The Random Forest model also has the lowest MAE of 1350.55, meaning that, on average, its predictions are off by about $1,350, which is quite good for car pricing.\n",
    "    \n",
    "    \n",
    "The Random Forest Regressor emerges as the best model for several reasons:\n",
    "\n",
    "* High R-squared: With a value close to 1, the Random Forest model indicates a very strong fit to the data. In contrast, Linear Regression and Support Vector Regression have negative R-squared values, suggesting poor performance and possibly overfitting or underfitting issues.\n",
    "\n",
    "* Lowest Error Metrics: Both MSE and MAE are significantly lower for Random Forest compared to other models, confirming its superior predictive performance.\n",
    "\n",
    "* Robustness: The Random Forest algorithm, being an ensemble method, reduces the likelihood of overfitting, making it more reliable in capturing complex patterns in the dataset."
   ]
  },
  {
   "cell_type": "markdown",
   "id": "afeae767",
   "metadata": {},
   "source": [
    "# 4. Feature Importance Analysis"
   ]
  },
  {
   "cell_type": "code",
   "execution_count": 8,
   "id": "2491ba19",
   "metadata": {},
   "outputs": [
    {
     "name": "stdout",
     "output_type": "stream",
     "text": [
      "                              Feature  Importance\n",
      "7                          enginesize    0.587562\n",
      "6                          curbweight    0.238405\n",
      "14                         highwaympg    0.050481\n",
      "11                         horsepower    0.020208\n",
      "0                              car_ID    0.017937\n",
      "..                                ...         ...\n",
      "92                CarName_nissan note    0.000000\n",
      "148         CarName_volkswagen rabbit    0.000000\n",
      "43         CarName_dodge colt hardtop    0.000000\n",
      "123                 CarName_subaru r2    0.000000\n",
      "131  CarName_toyota corolla 1600 (sw)    0.000000\n",
      "\n",
      "[190 rows x 2 columns]\n"
     ]
    },
    {
     "data": {
      "image/png": "[encoded data removed]",
      "text/plain": [
       "<Figure size 1000x600 with 1 Axes>"
      ]
     },
     "metadata": {},
     "output_type": "display_data"
    }
   ],
   "source": [
    "import matplotlib.pyplot as plt\n",
    "import numpy as np\n",
    "\n",
    "# Fit the Random Forest model (if not already done)\n",
    "random_forest_model = RandomForestRegressor()\n",
    "random_forest_model.fit(X_train, y_train)\n",
    "\n",
    "# Get feature importances\n",
    "importances = random_forest_model.feature_importances_\n",
    "\n",
    "# Get feature names from the preprocessor\n",
    "feature_names = X.columns\n",
    "\n",
    "# Create a DataFrame for feature importances\n",
    "importance_df = pd.DataFrame({\n",
    "    'Feature': feature_names,\n",
    "    'Importance': importances\n",
    "})\n",
    "\n",
    "# Sort the DataFrame by importance\n",
    "importance_df = importance_df.sort_values(by='Importance', ascending=False)\n",
    "\n",
    "# Display feature importances\n",
    "print(importance_df)\n",
    "\n",
    "# Plot feature importances\n",
    "plt.figure(figsize=(10, 6))\n",
    "plt.barh(importance_df['Feature'][:10], importance_df['Importance'][:10], color='skyblue')\n",
    "plt.xlabel('Importance')\n",
    "plt.title('Top 10 Features Affecting Car Prices')\n",
    "plt.gca().invert_yaxis()  # Invert y-axis for better visualization\n",
    "plt.show()\n"
   ]
  },
  {
   "cell_type": "markdown",
   "id": "ffb4535b",
   "metadata": {},
   "source": [
    "Analysis\n",
    "\n",
    "\n",
    "Most Significant Features:\n",
    "\n",
    "\n",
    "* Enginesize (0.610959): This feature has the highest importance score, indicating that it has a substantial impact on car prices. A larger engine size likely correlates with higher performance and therefore higher prices.\n",
    "* Curbweight (0.230675): This feature is also significant, suggesting that the weight of the car affects its price. Heavier cars may imply more material, safety, or durability, which could influence pricing.\n",
    "* Highway MPG (0.047087): Although lower in importance compared to the top two features, fuel efficiency (measured in highway miles per gallon) still has some impact on pricing. More fuel-efficient cars may attract buyers looking to save on fuel costs.\n",
    "\n",
    "\n",
    "Less Significant Features:\n",
    "\n",
    "* Features like car_ID and horsepower have very low importance scores. This suggests that simply identifying the car or focusing solely on horsepower may not significantly influence the price.\n",
    "* Many features related to specific car names (e.g., CarName_volkswagen rabbit) have zero importance, indicating that they do not contribute to predicting car prices in this dataset."
   ]
  },
  {
   "cell_type": "markdown",
   "id": "d9138e22",
   "metadata": {},
   "source": [
    "# 5. Hyperparameter Tuning\n"
   ]
  },
  {
   "cell_type": "code",
   "execution_count": 28,
   "id": "5ec6423c",
   "metadata": {},
   "outputs": [
    {
     "ename": "NameError",
     "evalue": "name 'RandomForestRegressor' is not defined",
     "output_type": "error",
     "traceback": [
      "\u001b[1;31m---------------------------------------------------------------------------\u001b[0m",
      "\u001b[1;31mNameError\u001b[0m                                 Traceback (most recent call last)",
      "Cell \u001b[1;32mIn[28], line 10\u001b[0m\n\u001b[0;32m      3\u001b[0m \u001b[38;5;66;03m# Set up the parameter grid for Random Forest\u001b[39;00m\n\u001b[0;32m      4\u001b[0m param_grid \u001b[38;5;241m=\u001b[39m {\n\u001b[0;32m      5\u001b[0m     \u001b[38;5;124m'\u001b[39m\u001b[38;5;124mn_estimators\u001b[39m\u001b[38;5;124m'\u001b[39m: [\u001b[38;5;241m100\u001b[39m, \u001b[38;5;241m200\u001b[39m],\n\u001b[0;32m      6\u001b[0m     \u001b[38;5;124m'\u001b[39m\u001b[38;5;124mmax_depth\u001b[39m\u001b[38;5;124m'\u001b[39m: [\u001b[38;5;28;01mNone\u001b[39;00m, \u001b[38;5;241m10\u001b[39m, \u001b[38;5;241m20\u001b[39m],\n\u001b[0;32m      7\u001b[0m     \u001b[38;5;124m'\u001b[39m\u001b[38;5;124mmin_samples_split\u001b[39m\u001b[38;5;124m'\u001b[39m: [\u001b[38;5;241m2\u001b[39m, \u001b[38;5;241m5\u001b[39m]\n\u001b[0;32m      8\u001b[0m }\n\u001b[1;32m---> 10\u001b[0m grid_search \u001b[38;5;241m=\u001b[39m GridSearchCV(RandomForestRegressor(), param_grid, cv\u001b[38;5;241m=\u001b[39m\u001b[38;5;241m3\u001b[39m, scoring\u001b[38;5;241m=\u001b[39m\u001b[38;5;124m'\u001b[39m\u001b[38;5;124mneg_mean_squared_error\u001b[39m\u001b[38;5;124m'\u001b[39m)\n\u001b[0;32m     11\u001b[0m grid_search\u001b[38;5;241m.\u001b[39mfit(X_train, y_train)\n\u001b[0;32m     13\u001b[0m \u001b[38;5;66;03m# Best parameters and score\u001b[39;00m\n",
      "\u001b[1;31mNameError\u001b[0m: name 'RandomForestRegressor' is not defined"
     ]
    }
   ],
   "source": [
    "from sklearn.model_selection import GridSearchCV\n",
    "\n",
    "# Set up the parameter grid for Random Forest\n",
    "param_grid = {\n",
    "    'n_estimators': [100, 200],\n",
    "    'max_depth': [None, 10, 20],\n",
    "    'min_samples_split': [2, 5]\n",
    "}\n",
    "\n",
    "grid_search = GridSearchCV(RandomForestRegressor(), param_grid, cv=3, scoring='neg_mean_squared_error')\n",
    "grid_search.fit(X_train, y_train)\n",
    "\n",
    "# Best parameters and score\n",
    "best_params = grid_search.best_params_\n",
    "best_score = -grid_search.best_score_\n",
    "\n",
    "print(\"Best Hyperparameters:\")\n",
    "print(best_params)\n",
    "print(\"\\nBest MSE from Grid Search:\")\n",
    "print(best_score)\n"
   ]
  },
  {
   "cell_type": "markdown",
   "id": "b8e2dfe9",
   "metadata": {},
   "source": [
    "The above steps perform hyperparameter tuning using grid search to find the best hyperparameters for the Random Forest Regressor. The tuned model is then evaluated to see if its performance has improved compared to the initial model."
   ]
  },
  {
   "cell_type": "markdown",
   "id": "85dfa39c",
   "metadata": {},
   "source": [
    "# conclusion "
   ]
  },
  {
   "cell_type": "markdown",
   "id": "de312588",
   "metadata": {},
   "source": [
    "\n",
    "The analysis of car pricing in the American market identified the Random Forest model as the most effective predictive tool, achieving an R-squared value of 0.956 and a Mean Squared Error (MSE) of 6,996,931.60 after hyperparameter tuning. The most influential features were engine size (0.5876) and curb weight (0.2384), indicating their significant impact on pricing decisions. Conversely, features such as specific car names showed minimal importance, suggesting they should not heavily influence pricing strategies. These insights will guide the company in optimizing vehicle design and marketing approaches to effectively compete in the U.S. market.\n",
    "\n",
    "\n",
    "\n"
   ]
  },
  {
   "cell_type": "code",
   "execution_count": null,
   "id": "e9f3e706",
   "metadata": {},
   "outputs": [],
   "source": []
  }
 ],
 "metadata": {
  "kernelspec": {
   "display_name": "Python 3 (ipykernel)",
   "language": "python",
   "name": "python3"
  },
  "language_info": {
   "codemirror_mode": {
    "name": "ipython",
    "version": 3
   },
   "file_extension": ".py",
   "mimetype": "text/x-python",
   "name": "python",
   "nbconvert_exporter": "python",
   "pygments_lexer": "ipython3",
   "version": "3.11.5"
  }
 },
 "nbformat": 4,
 "nbformat_minor": 5
}
